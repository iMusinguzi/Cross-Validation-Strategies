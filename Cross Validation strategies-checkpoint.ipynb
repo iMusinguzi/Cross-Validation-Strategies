{
 "cells": [
  {
   "cell_type": "markdown",
   "metadata": {},
   "source": [
    "Cross-Validation strategies"
   ]
  },
  {
   "cell_type": "code",
   "execution_count": 1,
   "metadata": {},
   "outputs": [],
   "source": [
    "# TO DEAL WITH FUTURE WARNINGS\n",
    "# import warnings filter\n",
    "from warnings import simplefilter\n",
    "# ignore all future warnings\n",
    "simplefilter(action='ignore', category=FutureWarning)\n"
   ]
  },
  {
   "cell_type": "code",
   "execution_count": 2,
   "metadata": {},
   "outputs": [],
   "source": [
    "# Using the iris data\n",
    "from sklearn.model_selection import cross_val_score\n",
    "from sklearn.datasets import load_iris\n",
    "from sklearn.linear_model import LogisticRegression #for classification problem"
   ]
  },
  {
   "cell_type": "code",
   "execution_count": 3,
   "metadata": {},
   "outputs": [
    {
     "name": "stdout",
     "output_type": "stream",
     "text": [
      "Cross Validation scores: [0.96078431 0.92156863 0.95833333]\n"
     ]
    }
   ],
   "source": [
    "iris = load_iris()\n",
    "lr = LogisticRegression()\n",
    "#the parameters of the cross_val_score function are the model we want to \n",
    "#evaluate\n",
    "score = cross_val_score(lr,iris.data,iris.target)\n",
    "print('Cross Validation scores: {}'.format(score))"
   ]
  },
  {
   "cell_type": "code",
   "execution_count": 4,
   "metadata": {},
   "outputs": [
    {
     "name": "stdout",
     "output_type": "stream",
     "text": [
      "Average CV score: 0.95\n"
     ]
    }
   ],
   "source": [
    "print('Average CV score: {:.2f}'.format(score.mean()))"
   ]
  },
  {
   "cell_type": "code",
   "execution_count": 6,
   "metadata": {},
   "outputs": [
    {
     "name": "stdout",
     "output_type": "stream",
     "text": [
      "iris labels:\n",
      "[0 0 0 0 0 0 0 0 0 0 0 0 0 0 0 0 0 0 0 0 0 0 0 0 0 0 0 0 0 0 0 0 0 0 0 0 0\n",
      " 0 0 0 0 0 0 0 0 0 0 0 0 0 1 1 1 1 1 1 1 1 1 1 1 1 1 1 1 1 1 1 1 1 1 1 1 1\n",
      " 1 1 1 1 1 1 1 1 1 1 1 1 1 1 1 1 1 1 1 1 1 1 1 1 1 1 2 2 2 2 2 2 2 2 2 2 2\n",
      " 2 2 2 2 2 2 2 2 2 2 2 2 2 2 2 2 2 2 2 2 2 2 2 2 2 2 2 2 2 2 2 2 2 2 2 2 2\n",
      " 2 2]\n"
     ]
    }
   ],
   "source": [
    "print('iris labels:\\n{}'.format(iris.target))"
   ]
  },
  {
   "cell_type": "code",
   "execution_count": 7,
   "metadata": {},
   "outputs": [
    {
     "name": "stdout",
     "output_type": "stream",
     "text": [
      "CV score:\n",
      "[1.         0.93333333 0.43333333 0.96666667 0.43333333]\n"
     ]
    }
   ],
   "source": [
    "# we can use stratified k-fold cv such that splits proportions are the same\n",
    "# in each fold\n",
    "# But we going to use standard k-fold by importing kfold splitter\n",
    "from sklearn.model_selection import KFold\n",
    "kfold = KFold(n_splits = 5)\n",
    "print('CV score:\\n{}'.format(cross_val_score(lr,iris.data,iris.target,cv=kfold)))"
   ]
  },
  {
   "cell_type": "code",
   "execution_count": 8,
   "metadata": {},
   "outputs": [
    {
     "name": "stdout",
     "output_type": "stream",
     "text": [
      "CV score:\n",
      "[0. 0. 0.]\n"
     ]
    }
   ],
   "source": [
    "kfold = KFold(n_splits = 3)\n",
    "print('CV score:\\n{}'.format(cross_val_score(lr,iris.data,iris.target,cv=kfold)))"
   ]
  },
  {
   "cell_type": "code",
   "execution_count": 9,
   "metadata": {},
   "outputs": [
    {
     "name": "stdout",
     "output_type": "stream",
     "text": [
      "CV scores:\n",
      "[0.9  0.96 0.96]\n"
     ]
    }
   ],
   "source": [
    "#from the preceding snippet each fold corresponds to 1 \n",
    "#class in the iris dataset nothing learned,\n",
    "#to resolve the we shuffle the data\n",
    "kfold = KFold(n_splits=3,shuffle=True,random_state=0)\n",
    "print('CV scores:\\n{}'.format(cross_val_score(lr,iris.data,iris.target,cv=kfold)))"
   ]
  },
  {
   "cell_type": "code",
   "execution_count": 10,
   "metadata": {},
   "outputs": [
    {
     "name": "stdout",
     "output_type": "stream",
     "text": [
      "CV iterations:  150\n",
      "Mean accuracy: 0.95\n"
     ]
    }
   ],
   "source": [
    "# Leave-one-out cv as another cv method\n",
    "#think of loo as kfold cv where each flod is a single sample\n",
    "from sklearn.model_selection import LeaveOneOut\n",
    "loo = LeaveOneOut()\n",
    "score = cross_val_score(lr,iris.data,iris.target,cv=loo)\n",
    "print('CV iterations: ', len(score))\n",
    "print('Mean accuracy: {:.2f}'.format(score.mean()))"
   ]
  },
  {
   "cell_type": "code",
   "execution_count": 14,
   "metadata": {},
   "outputs": [
    {
     "name": "stdout",
     "output_type": "stream",
     "text": [
      "CV score:\n",
      "[0.96       0.97333333 0.94666667 0.92       0.93333333 0.97333333\n",
      " 0.94666667 0.93333333 0.82666667 0.94666667]\n"
     ]
    }
   ],
   "source": [
    "#Shuffle-split cv another cv strategy\n",
    "from sklearn.model_selection import ShuffleSplit\n",
    "ss = ShuffleSplit(test_size=.5,train_size=.5,n_splits=10)\n",
    "score = cross_val_score(lr,iris.data,iris.target,cv=ss)\n",
    "print('CV score:\\n{}'.format(score))"
   ]
  },
  {
   "cell_type": "markdown",
   "metadata": {},
   "source": [
    "Cross validation is a statistical method of evaluating generalization performance, considered more stable and thorough than using a split into training and test sets.\n",
    "use a specific cross validation strategy depending on the problem or what you want to achieve as goal "
   ]
  }
 ],
 "metadata": {
  "kernelspec": {
   "display_name": "Python 3",
   "language": "python",
   "name": "python3"
  },
  "language_info": {
   "codemirror_mode": {
    "name": "ipython",
    "version": 3
   },
   "file_extension": ".py",
   "mimetype": "text/x-python",
   "name": "python",
   "nbconvert_exporter": "python",
   "pygments_lexer": "ipython3",
   "version": "3.7.1"
  }
 },
 "nbformat": 4,
 "nbformat_minor": 2
}
